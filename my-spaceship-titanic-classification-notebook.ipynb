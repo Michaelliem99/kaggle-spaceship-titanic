{
 "cells": [
  {
   "cell_type": "code",
   "execution_count": 1,
   "id": "454d2e25",
   "metadata": {
    "_cell_guid": "b1076dfc-b9ad-4769-8c92-a6c4dae69d19",
    "_uuid": "8f2839f25d086af736a60e9eeb907d3b93b6e0e5",
    "execution": {
     "iopub.execute_input": "2022-08-26T14:22:51.819437Z",
     "iopub.status.busy": "2022-08-26T14:22:51.818816Z",
     "iopub.status.idle": "2022-08-26T14:22:51.836578Z",
     "shell.execute_reply": "2022-08-26T14:22:51.835341Z"
    },
    "papermill": {
     "duration": 0.035704,
     "end_time": "2022-08-26T14:22:51.840395",
     "exception": false,
     "start_time": "2022-08-26T14:22:51.804691",
     "status": "completed"
    },
    "tags": []
   },
   "outputs": [
    {
     "name": "stdout",
     "output_type": "stream",
     "text": [
      "/kaggle/input/spaceship-titanic/sample_submission.csv\n",
      "/kaggle/input/spaceship-titanic/train.csv\n",
      "/kaggle/input/spaceship-titanic/test.csv\n"
     ]
    }
   ],
   "source": [
    "# This Python 3 environment comes with many helpful analytics libraries installed\n",
    "# It is defined by the kaggle/python Docker image: https://github.com/kaggle/docker-python\n",
    "# For example, here's several helpful packages to load\n",
    "\n",
    "import numpy as np # linear algebra\n",
    "import pandas as pd # data processing, CSV file I/O (e.g. pd.read_csv)\n",
    "\n",
    "# Input data files are available in the read-only \"../input/\" directory\n",
    "# For example, running this (by clicking run or pressing Shift+Enter) will list all files under the input directory\n",
    "\n",
    "import os\n",
    "for dirname, _, filenames in os.walk('/kaggle/input'):\n",
    "    for filename in filenames:\n",
    "        print(os.path.join(dirname, filename))\n",
    "\n",
    "# You can write up to 20GB to the current directory (/kaggle/working/) that gets preserved as output when you create a version using \"Save & Run All\" \n",
    "# You can also write temporary files to /kaggle/temp/, but they won't be saved outside of the current session"
   ]
  },
  {
   "cell_type": "markdown",
   "id": "6549e6cd",
   "metadata": {
    "papermill": {
     "duration": 0.010849,
     "end_time": "2022-08-26T14:22:51.863391",
     "exception": false,
     "start_time": "2022-08-26T14:22:51.852542",
     "status": "completed"
    },
    "tags": []
   },
   "source": [
    "## 1. Load Train Data and Test Data"
   ]
  },
  {
   "cell_type": "code",
   "execution_count": 2,
   "id": "74194544",
   "metadata": {
    "execution": {
     "iopub.execute_input": "2022-08-26T14:22:51.887579Z",
     "iopub.status.busy": "2022-08-26T14:22:51.887152Z",
     "iopub.status.idle": "2022-08-26T14:22:51.973854Z",
     "shell.execute_reply": "2022-08-26T14:22:51.972977Z"
    },
    "papermill": {
     "duration": 0.102345,
     "end_time": "2022-08-26T14:22:51.976935",
     "exception": false,
     "start_time": "2022-08-26T14:22:51.874590",
     "status": "completed"
    },
    "tags": []
   },
   "outputs": [],
   "source": [
    "data_train = pd.read_csv(\"../input/spaceship-titanic/train.csv\")\n",
    "data_test = pd.read_csv(\"../input/spaceship-titanic/test.csv\")"
   ]
  },
  {
   "cell_type": "code",
   "execution_count": 3,
   "id": "207ede1f",
   "metadata": {
    "execution": {
     "iopub.execute_input": "2022-08-26T14:22:52.003040Z",
     "iopub.status.busy": "2022-08-26T14:22:52.002240Z",
     "iopub.status.idle": "2022-08-26T14:22:52.052633Z",
     "shell.execute_reply": "2022-08-26T14:22:52.051291Z"
    },
    "papermill": {
     "duration": 0.065407,
     "end_time": "2022-08-26T14:22:52.055163",
     "exception": false,
     "start_time": "2022-08-26T14:22:51.989756",
     "status": "completed"
    },
    "tags": []
   },
   "outputs": [
    {
     "data": {
      "text/html": [
       "<div>\n",
       "<style scoped>\n",
       "    .dataframe tbody tr th:only-of-type {\n",
       "        vertical-align: middle;\n",
       "    }\n",
       "\n",
       "    .dataframe tbody tr th {\n",
       "        vertical-align: top;\n",
       "    }\n",
       "\n",
       "    .dataframe thead th {\n",
       "        text-align: right;\n",
       "    }\n",
       "</style>\n",
       "<table border=\"1\" class=\"dataframe\">\n",
       "  <thead>\n",
       "    <tr style=\"text-align: right;\">\n",
       "      <th></th>\n",
       "      <th>PassengerId</th>\n",
       "      <th>HomePlanet</th>\n",
       "      <th>CryoSleep</th>\n",
       "      <th>Cabin</th>\n",
       "      <th>Destination</th>\n",
       "      <th>Age</th>\n",
       "      <th>VIP</th>\n",
       "      <th>RoomService</th>\n",
       "      <th>FoodCourt</th>\n",
       "      <th>ShoppingMall</th>\n",
       "      <th>Spa</th>\n",
       "      <th>VRDeck</th>\n",
       "      <th>Name</th>\n",
       "      <th>Transported</th>\n",
       "    </tr>\n",
       "  </thead>\n",
       "  <tbody>\n",
       "    <tr>\n",
       "      <th>0</th>\n",
       "      <td>0001_01</td>\n",
       "      <td>Europa</td>\n",
       "      <td>False</td>\n",
       "      <td>B/0/P</td>\n",
       "      <td>TRAPPIST-1e</td>\n",
       "      <td>39.0</td>\n",
       "      <td>False</td>\n",
       "      <td>0.0</td>\n",
       "      <td>0.0</td>\n",
       "      <td>0.0</td>\n",
       "      <td>0.0</td>\n",
       "      <td>0.0</td>\n",
       "      <td>Maham Ofracculy</td>\n",
       "      <td>False</td>\n",
       "    </tr>\n",
       "    <tr>\n",
       "      <th>1</th>\n",
       "      <td>0002_01</td>\n",
       "      <td>Earth</td>\n",
       "      <td>False</td>\n",
       "      <td>F/0/S</td>\n",
       "      <td>TRAPPIST-1e</td>\n",
       "      <td>24.0</td>\n",
       "      <td>False</td>\n",
       "      <td>109.0</td>\n",
       "      <td>9.0</td>\n",
       "      <td>25.0</td>\n",
       "      <td>549.0</td>\n",
       "      <td>44.0</td>\n",
       "      <td>Juanna Vines</td>\n",
       "      <td>True</td>\n",
       "    </tr>\n",
       "    <tr>\n",
       "      <th>2</th>\n",
       "      <td>0003_01</td>\n",
       "      <td>Europa</td>\n",
       "      <td>False</td>\n",
       "      <td>A/0/S</td>\n",
       "      <td>TRAPPIST-1e</td>\n",
       "      <td>58.0</td>\n",
       "      <td>True</td>\n",
       "      <td>43.0</td>\n",
       "      <td>3576.0</td>\n",
       "      <td>0.0</td>\n",
       "      <td>6715.0</td>\n",
       "      <td>49.0</td>\n",
       "      <td>Altark Susent</td>\n",
       "      <td>False</td>\n",
       "    </tr>\n",
       "    <tr>\n",
       "      <th>3</th>\n",
       "      <td>0003_02</td>\n",
       "      <td>Europa</td>\n",
       "      <td>False</td>\n",
       "      <td>A/0/S</td>\n",
       "      <td>TRAPPIST-1e</td>\n",
       "      <td>33.0</td>\n",
       "      <td>False</td>\n",
       "      <td>0.0</td>\n",
       "      <td>1283.0</td>\n",
       "      <td>371.0</td>\n",
       "      <td>3329.0</td>\n",
       "      <td>193.0</td>\n",
       "      <td>Solam Susent</td>\n",
       "      <td>False</td>\n",
       "    </tr>\n",
       "    <tr>\n",
       "      <th>4</th>\n",
       "      <td>0004_01</td>\n",
       "      <td>Earth</td>\n",
       "      <td>False</td>\n",
       "      <td>F/1/S</td>\n",
       "      <td>TRAPPIST-1e</td>\n",
       "      <td>16.0</td>\n",
       "      <td>False</td>\n",
       "      <td>303.0</td>\n",
       "      <td>70.0</td>\n",
       "      <td>151.0</td>\n",
       "      <td>565.0</td>\n",
       "      <td>2.0</td>\n",
       "      <td>Willy Santantines</td>\n",
       "      <td>True</td>\n",
       "    </tr>\n",
       "    <tr>\n",
       "      <th>...</th>\n",
       "      <td>...</td>\n",
       "      <td>...</td>\n",
       "      <td>...</td>\n",
       "      <td>...</td>\n",
       "      <td>...</td>\n",
       "      <td>...</td>\n",
       "      <td>...</td>\n",
       "      <td>...</td>\n",
       "      <td>...</td>\n",
       "      <td>...</td>\n",
       "      <td>...</td>\n",
       "      <td>...</td>\n",
       "      <td>...</td>\n",
       "      <td>...</td>\n",
       "    </tr>\n",
       "    <tr>\n",
       "      <th>4272</th>\n",
       "      <td>9266_02</td>\n",
       "      <td>Earth</td>\n",
       "      <td>True</td>\n",
       "      <td>G/1496/S</td>\n",
       "      <td>TRAPPIST-1e</td>\n",
       "      <td>34.0</td>\n",
       "      <td>False</td>\n",
       "      <td>0.0</td>\n",
       "      <td>0.0</td>\n",
       "      <td>0.0</td>\n",
       "      <td>0.0</td>\n",
       "      <td>0.0</td>\n",
       "      <td>Jeron Peter</td>\n",
       "      <td>NaN</td>\n",
       "    </tr>\n",
       "    <tr>\n",
       "      <th>4273</th>\n",
       "      <td>9269_01</td>\n",
       "      <td>Earth</td>\n",
       "      <td>False</td>\n",
       "      <td>NaN</td>\n",
       "      <td>TRAPPIST-1e</td>\n",
       "      <td>42.0</td>\n",
       "      <td>False</td>\n",
       "      <td>0.0</td>\n",
       "      <td>847.0</td>\n",
       "      <td>17.0</td>\n",
       "      <td>10.0</td>\n",
       "      <td>144.0</td>\n",
       "      <td>Matty Scheron</td>\n",
       "      <td>NaN</td>\n",
       "    </tr>\n",
       "    <tr>\n",
       "      <th>4274</th>\n",
       "      <td>9271_01</td>\n",
       "      <td>Mars</td>\n",
       "      <td>True</td>\n",
       "      <td>D/296/P</td>\n",
       "      <td>55 Cancri e</td>\n",
       "      <td>NaN</td>\n",
       "      <td>False</td>\n",
       "      <td>0.0</td>\n",
       "      <td>0.0</td>\n",
       "      <td>0.0</td>\n",
       "      <td>0.0</td>\n",
       "      <td>0.0</td>\n",
       "      <td>Jayrin Pore</td>\n",
       "      <td>NaN</td>\n",
       "    </tr>\n",
       "    <tr>\n",
       "      <th>4275</th>\n",
       "      <td>9273_01</td>\n",
       "      <td>Europa</td>\n",
       "      <td>False</td>\n",
       "      <td>D/297/P</td>\n",
       "      <td>NaN</td>\n",
       "      <td>NaN</td>\n",
       "      <td>False</td>\n",
       "      <td>0.0</td>\n",
       "      <td>2680.0</td>\n",
       "      <td>0.0</td>\n",
       "      <td>0.0</td>\n",
       "      <td>523.0</td>\n",
       "      <td>Kitakan Conale</td>\n",
       "      <td>NaN</td>\n",
       "    </tr>\n",
       "    <tr>\n",
       "      <th>4276</th>\n",
       "      <td>9277_01</td>\n",
       "      <td>Earth</td>\n",
       "      <td>True</td>\n",
       "      <td>G/1498/S</td>\n",
       "      <td>PSO J318.5-22</td>\n",
       "      <td>43.0</td>\n",
       "      <td>False</td>\n",
       "      <td>0.0</td>\n",
       "      <td>0.0</td>\n",
       "      <td>0.0</td>\n",
       "      <td>0.0</td>\n",
       "      <td>0.0</td>\n",
       "      <td>Lilace Leonzaley</td>\n",
       "      <td>NaN</td>\n",
       "    </tr>\n",
       "  </tbody>\n",
       "</table>\n",
       "<p>12970 rows × 14 columns</p>\n",
       "</div>"
      ],
      "text/plain": [
       "     PassengerId HomePlanet CryoSleep     Cabin    Destination   Age    VIP  \\\n",
       "0        0001_01     Europa     False     B/0/P    TRAPPIST-1e  39.0  False   \n",
       "1        0002_01      Earth     False     F/0/S    TRAPPIST-1e  24.0  False   \n",
       "2        0003_01     Europa     False     A/0/S    TRAPPIST-1e  58.0   True   \n",
       "3        0003_02     Europa     False     A/0/S    TRAPPIST-1e  33.0  False   \n",
       "4        0004_01      Earth     False     F/1/S    TRAPPIST-1e  16.0  False   \n",
       "...          ...        ...       ...       ...            ...   ...    ...   \n",
       "4272     9266_02      Earth      True  G/1496/S    TRAPPIST-1e  34.0  False   \n",
       "4273     9269_01      Earth     False       NaN    TRAPPIST-1e  42.0  False   \n",
       "4274     9271_01       Mars      True   D/296/P    55 Cancri e   NaN  False   \n",
       "4275     9273_01     Europa     False   D/297/P            NaN   NaN  False   \n",
       "4276     9277_01      Earth      True  G/1498/S  PSO J318.5-22  43.0  False   \n",
       "\n",
       "      RoomService  FoodCourt  ShoppingMall     Spa  VRDeck               Name  \\\n",
       "0             0.0        0.0           0.0     0.0     0.0    Maham Ofracculy   \n",
       "1           109.0        9.0          25.0   549.0    44.0       Juanna Vines   \n",
       "2            43.0     3576.0           0.0  6715.0    49.0      Altark Susent   \n",
       "3             0.0     1283.0         371.0  3329.0   193.0       Solam Susent   \n",
       "4           303.0       70.0         151.0   565.0     2.0  Willy Santantines   \n",
       "...           ...        ...           ...     ...     ...                ...   \n",
       "4272          0.0        0.0           0.0     0.0     0.0        Jeron Peter   \n",
       "4273          0.0      847.0          17.0    10.0   144.0      Matty Scheron   \n",
       "4274          0.0        0.0           0.0     0.0     0.0        Jayrin Pore   \n",
       "4275          0.0     2680.0           0.0     0.0   523.0     Kitakan Conale   \n",
       "4276          0.0        0.0           0.0     0.0     0.0   Lilace Leonzaley   \n",
       "\n",
       "     Transported  \n",
       "0          False  \n",
       "1           True  \n",
       "2          False  \n",
       "3          False  \n",
       "4           True  \n",
       "...          ...  \n",
       "4272         NaN  \n",
       "4273         NaN  \n",
       "4274         NaN  \n",
       "4275         NaN  \n",
       "4276         NaN  \n",
       "\n",
       "[12970 rows x 14 columns]"
      ]
     },
     "execution_count": 3,
     "metadata": {},
     "output_type": "execute_result"
    }
   ],
   "source": [
    "spaceship_titanic = data_train.append(data_test)\n",
    "spaceship_titanic"
   ]
  },
  {
   "cell_type": "code",
   "execution_count": 4,
   "id": "7f15eab9",
   "metadata": {
    "execution": {
     "iopub.execute_input": "2022-08-26T14:22:52.079732Z",
     "iopub.status.busy": "2022-08-26T14:22:52.079348Z",
     "iopub.status.idle": "2022-08-26T14:22:52.107343Z",
     "shell.execute_reply": "2022-08-26T14:22:52.106399Z"
    },
    "papermill": {
     "duration": 0.043473,
     "end_time": "2022-08-26T14:22:52.110000",
     "exception": false,
     "start_time": "2022-08-26T14:22:52.066527",
     "status": "completed"
    },
    "tags": []
   },
   "outputs": [
    {
     "name": "stdout",
     "output_type": "stream",
     "text": [
      "<class 'pandas.core.frame.DataFrame'>\n",
      "Int64Index: 12970 entries, 0 to 4276\n",
      "Data columns (total 14 columns):\n",
      " #   Column        Non-Null Count  Dtype  \n",
      "---  ------        --------------  -----  \n",
      " 0   PassengerId   12970 non-null  object \n",
      " 1   HomePlanet    12682 non-null  object \n",
      " 2   CryoSleep     12660 non-null  object \n",
      " 3   Cabin         12671 non-null  object \n",
      " 4   Destination   12696 non-null  object \n",
      " 5   Age           12700 non-null  float64\n",
      " 6   VIP           12674 non-null  object \n",
      " 7   RoomService   12707 non-null  float64\n",
      " 8   FoodCourt     12681 non-null  float64\n",
      " 9   ShoppingMall  12664 non-null  float64\n",
      " 10  Spa           12686 non-null  float64\n",
      " 11  VRDeck        12702 non-null  float64\n",
      " 12  Name          12676 non-null  object \n",
      " 13  Transported   8693 non-null   object \n",
      "dtypes: float64(6), object(8)\n",
      "memory usage: 1.5+ MB\n"
     ]
    }
   ],
   "source": [
    "spaceship_titanic.info()"
   ]
  },
  {
   "cell_type": "code",
   "execution_count": 5,
   "id": "4410cdb2",
   "metadata": {
    "execution": {
     "iopub.execute_input": "2022-08-26T14:22:52.135785Z",
     "iopub.status.busy": "2022-08-26T14:22:52.135297Z",
     "iopub.status.idle": "2022-08-26T14:22:52.150272Z",
     "shell.execute_reply": "2022-08-26T14:22:52.149038Z"
    },
    "papermill": {
     "duration": 0.031335,
     "end_time": "2022-08-26T14:22:52.152901",
     "exception": false,
     "start_time": "2022-08-26T14:22:52.121566",
     "status": "completed"
    },
    "tags": []
   },
   "outputs": [],
   "source": [
    "spaceship_titanic.index = spaceship_titanic['PassengerId']\n",
    "spaceship_titanic = spaceship_titanic.drop(['Name'], axis=1)"
   ]
  },
  {
   "cell_type": "markdown",
   "id": "d30010c9",
   "metadata": {
    "papermill": {
     "duration": 0.011447,
     "end_time": "2022-08-26T14:22:52.175884",
     "exception": false,
     "start_time": "2022-08-26T14:22:52.164437",
     "status": "completed"
    },
    "tags": []
   },
   "source": [
    "## 2. Fix Categorical Data"
   ]
  },
  {
   "cell_type": "code",
   "execution_count": 6,
   "id": "c4686294",
   "metadata": {
    "execution": {
     "iopub.execute_input": "2022-08-26T14:22:52.201157Z",
     "iopub.status.busy": "2022-08-26T14:22:52.200662Z",
     "iopub.status.idle": "2022-08-26T14:22:52.255834Z",
     "shell.execute_reply": "2022-08-26T14:22:52.254633Z"
    },
    "papermill": {
     "duration": 0.072124,
     "end_time": "2022-08-26T14:22:52.259473",
     "exception": false,
     "start_time": "2022-08-26T14:22:52.187349",
     "status": "completed"
    },
    "tags": []
   },
   "outputs": [],
   "source": [
    "spaceship_titanic[['GroupId', 'PassengerIdOrder']] = spaceship_titanic['PassengerId'].str.split('_', expand=True)\n",
    "spaceship_titanic['IsAlone'] = ~spaceship_titanic['GroupId'].duplicated(keep=False)\n",
    "spaceship_titanic['IsAlone'] = spaceship_titanic['IsAlone'].map({True:1, False:0})\n",
    "spaceship_titanic = spaceship_titanic.drop(['PassengerId', 'GroupId', 'PassengerIdOrder'], axis=1)"
   ]
  },
  {
   "cell_type": "code",
   "execution_count": 7,
   "id": "8528de45",
   "metadata": {
    "execution": {
     "iopub.execute_input": "2022-08-26T14:22:52.295835Z",
     "iopub.status.busy": "2022-08-26T14:22:52.294472Z",
     "iopub.status.idle": "2022-08-26T14:22:52.338412Z",
     "shell.execute_reply": "2022-08-26T14:22:52.337239Z"
    },
    "papermill": {
     "duration": 0.064151,
     "end_time": "2022-08-26T14:22:52.341393",
     "exception": false,
     "start_time": "2022-08-26T14:22:52.277242",
     "status": "completed"
    },
    "tags": []
   },
   "outputs": [],
   "source": [
    "spaceship_titanic[['Deck', 'Num', 'Side']] = spaceship_titanic['Cabin'].str.split('/', expand=True)\n",
    "spaceship_titanic = spaceship_titanic.drop('Cabin', axis=1)"
   ]
  },
  {
   "cell_type": "code",
   "execution_count": 8,
   "id": "260f97af",
   "metadata": {
    "execution": {
     "iopub.execute_input": "2022-08-26T14:22:52.367220Z",
     "iopub.status.busy": "2022-08-26T14:22:52.366813Z",
     "iopub.status.idle": "2022-08-26T14:22:52.388347Z",
     "shell.execute_reply": "2022-08-26T14:22:52.386786Z"
    },
    "papermill": {
     "duration": 0.037911,
     "end_time": "2022-08-26T14:22:52.391540",
     "exception": false,
     "start_time": "2022-08-26T14:22:52.353629",
     "status": "completed"
    },
    "tags": []
   },
   "outputs": [],
   "source": [
    "deck = pd.get_dummies(spaceship_titanic[\"Deck\"])\n",
    "deck.columns = ['Deck' + col for col in deck.columns]\n",
    "spaceship_titanic = spaceship_titanic.drop('Deck',axis = 1)\n",
    "spaceship_titanic = spaceship_titanic.join(deck)"
   ]
  },
  {
   "cell_type": "code",
   "execution_count": 9,
   "id": "57e8e78d",
   "metadata": {
    "execution": {
     "iopub.execute_input": "2022-08-26T14:22:52.417898Z",
     "iopub.status.busy": "2022-08-26T14:22:52.417183Z",
     "iopub.status.idle": "2022-08-26T14:22:52.610498Z",
     "shell.execute_reply": "2022-08-26T14:22:52.609275Z"
    },
    "papermill": {
     "duration": 0.210028,
     "end_time": "2022-08-26T14:22:52.613707",
     "exception": false,
     "start_time": "2022-08-26T14:22:52.403679",
     "status": "completed"
    },
    "tags": []
   },
   "outputs": [],
   "source": [
    "num = pd.get_dummies(spaceship_titanic[\"Num\"])\n",
    "num.columns = ['Num' + col for col in num.columns]\n",
    "spaceship_titanic = spaceship_titanic.drop('Num',axis = 1)\n",
    "spaceship_titanic = spaceship_titanic.join(num)"
   ]
  },
  {
   "cell_type": "code",
   "execution_count": 10,
   "id": "4e104a55",
   "metadata": {
    "execution": {
     "iopub.execute_input": "2022-08-26T14:22:52.640378Z",
     "iopub.status.busy": "2022-08-26T14:22:52.639637Z",
     "iopub.status.idle": "2022-08-26T14:22:52.766759Z",
     "shell.execute_reply": "2022-08-26T14:22:52.765292Z"
    },
    "papermill": {
     "duration": 0.143949,
     "end_time": "2022-08-26T14:22:52.769541",
     "exception": false,
     "start_time": "2022-08-26T14:22:52.625592",
     "status": "completed"
    },
    "tags": []
   },
   "outputs": [],
   "source": [
    "side = pd.get_dummies(spaceship_titanic[\"Side\"])\n",
    "side.columns = ['Side' + col for col in side.columns]\n",
    "spaceship_titanic = spaceship_titanic.drop('Side',axis = 1)\n",
    "spaceship_titanic = spaceship_titanic.join(side)"
   ]
  },
  {
   "cell_type": "code",
   "execution_count": 11,
   "id": "80e726d1",
   "metadata": {
    "execution": {
     "iopub.execute_input": "2022-08-26T14:22:52.795873Z",
     "iopub.status.busy": "2022-08-26T14:22:52.794999Z",
     "iopub.status.idle": "2022-08-26T14:22:52.888119Z",
     "shell.execute_reply": "2022-08-26T14:22:52.886911Z"
    },
    "papermill": {
     "duration": 0.109887,
     "end_time": "2022-08-26T14:22:52.891137",
     "exception": false,
     "start_time": "2022-08-26T14:22:52.781250",
     "status": "completed"
    },
    "tags": []
   },
   "outputs": [],
   "source": [
    "home_planet = pd.get_dummies(spaceship_titanic[\"HomePlanet\"])\n",
    "spaceship_titanic = spaceship_titanic.drop('HomePlanet',axis = 1)\n",
    "spaceship_titanic = spaceship_titanic.join(home_planet)"
   ]
  },
  {
   "cell_type": "code",
   "execution_count": 12,
   "id": "047a70a2",
   "metadata": {
    "execution": {
     "iopub.execute_input": "2022-08-26T14:22:52.916208Z",
     "iopub.status.busy": "2022-08-26T14:22:52.915587Z",
     "iopub.status.idle": "2022-08-26T14:22:52.976069Z",
     "shell.execute_reply": "2022-08-26T14:22:52.975174Z"
    },
    "papermill": {
     "duration": 0.076411,
     "end_time": "2022-08-26T14:22:52.978919",
     "exception": false,
     "start_time": "2022-08-26T14:22:52.902508",
     "status": "completed"
    },
    "tags": []
   },
   "outputs": [],
   "source": [
    "cryo_sleep = pd.get_dummies(spaceship_titanic[\"CryoSleep\"])\n",
    "cryo_sleep.columns = ['CryoSleepTrue', 'CryoSleepFalse']\n",
    "spaceship_titanic = spaceship_titanic.drop('CryoSleep',axis = 1)\n",
    "spaceship_titanic = spaceship_titanic.join(cryo_sleep)"
   ]
  },
  {
   "cell_type": "code",
   "execution_count": 13,
   "id": "70c1c786",
   "metadata": {
    "execution": {
     "iopub.execute_input": "2022-08-26T14:22:53.006113Z",
     "iopub.status.busy": "2022-08-26T14:22:53.005670Z",
     "iopub.status.idle": "2022-08-26T14:22:53.128819Z",
     "shell.execute_reply": "2022-08-26T14:22:53.127491Z"
    },
    "papermill": {
     "duration": 0.140106,
     "end_time": "2022-08-26T14:22:53.131801",
     "exception": false,
     "start_time": "2022-08-26T14:22:52.991695",
     "status": "completed"
    },
    "tags": []
   },
   "outputs": [],
   "source": [
    "destination = pd.get_dummies(spaceship_titanic[\"Destination\"])\n",
    "spaceship_titanic = spaceship_titanic.drop('Destination',axis = 1)\n",
    "spaceship_titanic = spaceship_titanic.join(destination)"
   ]
  },
  {
   "cell_type": "code",
   "execution_count": 14,
   "id": "d0b80aa0",
   "metadata": {
    "execution": {
     "iopub.execute_input": "2022-08-26T14:22:53.157886Z",
     "iopub.status.busy": "2022-08-26T14:22:53.156949Z",
     "iopub.status.idle": "2022-08-26T14:22:53.232668Z",
     "shell.execute_reply": "2022-08-26T14:22:53.231351Z"
    },
    "papermill": {
     "duration": 0.092159,
     "end_time": "2022-08-26T14:22:53.235807",
     "exception": false,
     "start_time": "2022-08-26T14:22:53.143648",
     "status": "completed"
    },
    "tags": []
   },
   "outputs": [],
   "source": [
    "vip = pd.get_dummies(spaceship_titanic['VIP'])\n",
    "vip.columns = ['VIPTrue', 'VIPFalse']\n",
    "spaceship_titanic = spaceship_titanic.drop('VIP',axis = 1)\n",
    "spaceship_titanic = spaceship_titanic.join(vip)"
   ]
  },
  {
   "cell_type": "code",
   "execution_count": 15,
   "id": "70061512",
   "metadata": {
    "execution": {
     "iopub.execute_input": "2022-08-26T14:22:53.261234Z",
     "iopub.status.busy": "2022-08-26T14:22:53.260729Z",
     "iopub.status.idle": "2022-08-26T14:22:53.289755Z",
     "shell.execute_reply": "2022-08-26T14:22:53.288176Z"
    },
    "papermill": {
     "duration": 0.04498,
     "end_time": "2022-08-26T14:22:53.292492",
     "exception": false,
     "start_time": "2022-08-26T14:22:53.247512",
     "status": "completed"
    },
    "tags": []
   },
   "outputs": [
    {
     "data": {
      "text/html": [
       "<div>\n",
       "<style scoped>\n",
       "    .dataframe tbody tr th:only-of-type {\n",
       "        vertical-align: middle;\n",
       "    }\n",
       "\n",
       "    .dataframe tbody tr th {\n",
       "        vertical-align: top;\n",
       "    }\n",
       "\n",
       "    .dataframe thead th {\n",
       "        text-align: right;\n",
       "    }\n",
       "</style>\n",
       "<table border=\"1\" class=\"dataframe\">\n",
       "  <thead>\n",
       "    <tr style=\"text-align: right;\">\n",
       "      <th></th>\n",
       "      <th>Age</th>\n",
       "      <th>RoomService</th>\n",
       "      <th>FoodCourt</th>\n",
       "      <th>ShoppingMall</th>\n",
       "      <th>Spa</th>\n",
       "      <th>VRDeck</th>\n",
       "      <th>Transported</th>\n",
       "      <th>IsAlone</th>\n",
       "      <th>DeckA</th>\n",
       "      <th>DeckB</th>\n",
       "      <th>...</th>\n",
       "      <th>Earth</th>\n",
       "      <th>Europa</th>\n",
       "      <th>Mars</th>\n",
       "      <th>CryoSleepTrue</th>\n",
       "      <th>CryoSleepFalse</th>\n",
       "      <th>55 Cancri e</th>\n",
       "      <th>PSO J318.5-22</th>\n",
       "      <th>TRAPPIST-1e</th>\n",
       "      <th>VIPTrue</th>\n",
       "      <th>VIPFalse</th>\n",
       "    </tr>\n",
       "    <tr>\n",
       "      <th>PassengerId</th>\n",
       "      <th></th>\n",
       "      <th></th>\n",
       "      <th></th>\n",
       "      <th></th>\n",
       "      <th></th>\n",
       "      <th></th>\n",
       "      <th></th>\n",
       "      <th></th>\n",
       "      <th></th>\n",
       "      <th></th>\n",
       "      <th></th>\n",
       "      <th></th>\n",
       "      <th></th>\n",
       "      <th></th>\n",
       "      <th></th>\n",
       "      <th></th>\n",
       "      <th></th>\n",
       "      <th></th>\n",
       "      <th></th>\n",
       "      <th></th>\n",
       "      <th></th>\n",
       "    </tr>\n",
       "  </thead>\n",
       "  <tbody>\n",
       "    <tr>\n",
       "      <th>0001_01</th>\n",
       "      <td>39.0</td>\n",
       "      <td>0.0</td>\n",
       "      <td>0.0</td>\n",
       "      <td>0.0</td>\n",
       "      <td>0.0</td>\n",
       "      <td>0.0</td>\n",
       "      <td>False</td>\n",
       "      <td>1</td>\n",
       "      <td>0</td>\n",
       "      <td>1</td>\n",
       "      <td>...</td>\n",
       "      <td>0</td>\n",
       "      <td>1</td>\n",
       "      <td>0</td>\n",
       "      <td>1</td>\n",
       "      <td>0</td>\n",
       "      <td>0</td>\n",
       "      <td>0</td>\n",
       "      <td>1</td>\n",
       "      <td>1</td>\n",
       "      <td>0</td>\n",
       "    </tr>\n",
       "    <tr>\n",
       "      <th>0002_01</th>\n",
       "      <td>24.0</td>\n",
       "      <td>109.0</td>\n",
       "      <td>9.0</td>\n",
       "      <td>25.0</td>\n",
       "      <td>549.0</td>\n",
       "      <td>44.0</td>\n",
       "      <td>True</td>\n",
       "      <td>1</td>\n",
       "      <td>0</td>\n",
       "      <td>0</td>\n",
       "      <td>...</td>\n",
       "      <td>1</td>\n",
       "      <td>0</td>\n",
       "      <td>0</td>\n",
       "      <td>1</td>\n",
       "      <td>0</td>\n",
       "      <td>0</td>\n",
       "      <td>0</td>\n",
       "      <td>1</td>\n",
       "      <td>1</td>\n",
       "      <td>0</td>\n",
       "    </tr>\n",
       "    <tr>\n",
       "      <th>0003_01</th>\n",
       "      <td>58.0</td>\n",
       "      <td>43.0</td>\n",
       "      <td>3576.0</td>\n",
       "      <td>0.0</td>\n",
       "      <td>6715.0</td>\n",
       "      <td>49.0</td>\n",
       "      <td>False</td>\n",
       "      <td>0</td>\n",
       "      <td>1</td>\n",
       "      <td>0</td>\n",
       "      <td>...</td>\n",
       "      <td>0</td>\n",
       "      <td>1</td>\n",
       "      <td>0</td>\n",
       "      <td>1</td>\n",
       "      <td>0</td>\n",
       "      <td>0</td>\n",
       "      <td>0</td>\n",
       "      <td>1</td>\n",
       "      <td>0</td>\n",
       "      <td>1</td>\n",
       "    </tr>\n",
       "    <tr>\n",
       "      <th>0003_02</th>\n",
       "      <td>33.0</td>\n",
       "      <td>0.0</td>\n",
       "      <td>1283.0</td>\n",
       "      <td>371.0</td>\n",
       "      <td>3329.0</td>\n",
       "      <td>193.0</td>\n",
       "      <td>False</td>\n",
       "      <td>0</td>\n",
       "      <td>1</td>\n",
       "      <td>0</td>\n",
       "      <td>...</td>\n",
       "      <td>0</td>\n",
       "      <td>1</td>\n",
       "      <td>0</td>\n",
       "      <td>1</td>\n",
       "      <td>0</td>\n",
       "      <td>0</td>\n",
       "      <td>0</td>\n",
       "      <td>1</td>\n",
       "      <td>1</td>\n",
       "      <td>0</td>\n",
       "    </tr>\n",
       "    <tr>\n",
       "      <th>0004_01</th>\n",
       "      <td>16.0</td>\n",
       "      <td>303.0</td>\n",
       "      <td>70.0</td>\n",
       "      <td>151.0</td>\n",
       "      <td>565.0</td>\n",
       "      <td>2.0</td>\n",
       "      <td>True</td>\n",
       "      <td>1</td>\n",
       "      <td>0</td>\n",
       "      <td>0</td>\n",
       "      <td>...</td>\n",
       "      <td>1</td>\n",
       "      <td>0</td>\n",
       "      <td>0</td>\n",
       "      <td>1</td>\n",
       "      <td>0</td>\n",
       "      <td>0</td>\n",
       "      <td>0</td>\n",
       "      <td>1</td>\n",
       "      <td>1</td>\n",
       "      <td>0</td>\n",
       "    </tr>\n",
       "  </tbody>\n",
       "</table>\n",
       "<p>5 rows × 1922 columns</p>\n",
       "</div>"
      ],
      "text/plain": [
       "              Age  RoomService  FoodCourt  ShoppingMall     Spa  VRDeck  \\\n",
       "PassengerId                                                               \n",
       "0001_01      39.0          0.0        0.0           0.0     0.0     0.0   \n",
       "0002_01      24.0        109.0        9.0          25.0   549.0    44.0   \n",
       "0003_01      58.0         43.0     3576.0           0.0  6715.0    49.0   \n",
       "0003_02      33.0          0.0     1283.0         371.0  3329.0   193.0   \n",
       "0004_01      16.0        303.0       70.0         151.0   565.0     2.0   \n",
       "\n",
       "            Transported  IsAlone  DeckA  DeckB  ...  Earth  Europa  Mars  \\\n",
       "PassengerId                                     ...                        \n",
       "0001_01           False        1      0      1  ...      0       1     0   \n",
       "0002_01            True        1      0      0  ...      1       0     0   \n",
       "0003_01           False        0      1      0  ...      0       1     0   \n",
       "0003_02           False        0      1      0  ...      0       1     0   \n",
       "0004_01            True        1      0      0  ...      1       0     0   \n",
       "\n",
       "             CryoSleepTrue  CryoSleepFalse  55 Cancri e  PSO J318.5-22  \\\n",
       "PassengerId                                                              \n",
       "0001_01                  1               0            0              0   \n",
       "0002_01                  1               0            0              0   \n",
       "0003_01                  1               0            0              0   \n",
       "0003_02                  1               0            0              0   \n",
       "0004_01                  1               0            0              0   \n",
       "\n",
       "             TRAPPIST-1e  VIPTrue  VIPFalse  \n",
       "PassengerId                                  \n",
       "0001_01                1        1         0  \n",
       "0002_01                1        1         0  \n",
       "0003_01                1        0         1  \n",
       "0003_02                1        1         0  \n",
       "0004_01                1        1         0  \n",
       "\n",
       "[5 rows x 1922 columns]"
      ]
     },
     "execution_count": 15,
     "metadata": {},
     "output_type": "execute_result"
    }
   ],
   "source": [
    "spaceship_titanic.head()"
   ]
  },
  {
   "cell_type": "markdown",
   "id": "e1d8a80c",
   "metadata": {
    "papermill": {
     "duration": 0.011758,
     "end_time": "2022-08-26T14:22:53.316641",
     "exception": false,
     "start_time": "2022-08-26T14:22:53.304883",
     "status": "completed"
    },
    "tags": []
   },
   "source": [
    "## 3. Missing Values (Float and Int) Imputation"
   ]
  },
  {
   "cell_type": "markdown",
   "id": "54f2e43d",
   "metadata": {
    "papermill": {
     "duration": 0.01171,
     "end_time": "2022-08-26T14:22:53.340553",
     "exception": false,
     "start_time": "2022-08-26T14:22:53.328843",
     "status": "completed"
    },
    "tags": []
   },
   "source": [
    "There are a few columns which has null values in either float or int format, some machine learning models can't accept any null data"
   ]
  },
  {
   "cell_type": "code",
   "execution_count": 16,
   "id": "993bb59f",
   "metadata": {
    "execution": {
     "iopub.execute_input": "2022-08-26T14:22:53.366840Z",
     "iopub.status.busy": "2022-08-26T14:22:53.366391Z",
     "iopub.status.idle": "2022-08-26T14:22:53.373949Z",
     "shell.execute_reply": "2022-08-26T14:22:53.372819Z"
    },
    "papermill": {
     "duration": 0.02378,
     "end_time": "2022-08-26T14:22:53.376539",
     "exception": false,
     "start_time": "2022-08-26T14:22:53.352759",
     "status": "completed"
    },
    "tags": []
   },
   "outputs": [],
   "source": [
    "# age will be filled with average value\n",
    "spaceship_titanic['Age'] = spaceship_titanic['Age'].fillna(spaceship_titanic['Age'].mean())"
   ]
  },
  {
   "cell_type": "code",
   "execution_count": 17,
   "id": "1c58c8c3",
   "metadata": {
    "execution": {
     "iopub.execute_input": "2022-08-26T14:22:53.402606Z",
     "iopub.status.busy": "2022-08-26T14:22:53.402165Z",
     "iopub.status.idle": "2022-08-26T14:22:53.412348Z",
     "shell.execute_reply": "2022-08-26T14:22:53.411089Z"
    },
    "papermill": {
     "duration": 0.026702,
     "end_time": "2022-08-26T14:22:53.415147",
     "exception": false,
     "start_time": "2022-08-26T14:22:53.388445",
     "status": "completed"
    },
    "tags": []
   },
   "outputs": [],
   "source": [
    "spaceship_titanic['RoomService'] = spaceship_titanic['RoomService'].fillna(0)\n",
    "spaceship_titanic['FoodCourt'] = spaceship_titanic['FoodCourt'].fillna(0)\n",
    "spaceship_titanic['ShoppingMall'] = spaceship_titanic['ShoppingMall'].fillna(0)\n",
    "spaceship_titanic['Spa'] = spaceship_titanic['Spa'].fillna(0)\n",
    "spaceship_titanic['VRDeck'] = spaceship_titanic['VRDeck'].fillna(0)"
   ]
  },
  {
   "cell_type": "code",
   "execution_count": 18,
   "id": "69e85c97",
   "metadata": {
    "execution": {
     "iopub.execute_input": "2022-08-26T14:22:53.441955Z",
     "iopub.status.busy": "2022-08-26T14:22:53.441511Z",
     "iopub.status.idle": "2022-08-26T14:22:53.641347Z",
     "shell.execute_reply": "2022-08-26T14:22:53.639794Z"
    },
    "papermill": {
     "duration": 0.217838,
     "end_time": "2022-08-26T14:22:53.645350",
     "exception": false,
     "start_time": "2022-08-26T14:22:53.427512",
     "status": "completed"
    },
    "tags": []
   },
   "outputs": [
    {
     "name": "stdout",
     "output_type": "stream",
     "text": [
      "<class 'pandas.core.frame.DataFrame'>\n",
      "Index: 12970 entries, 0001_01 to 9277_01\n",
      "Columns: 1922 entries, Age to VIPFalse\n",
      "dtypes: float64(6), int64(1), object(1), uint8(1914)\n",
      "memory usage: 25.1+ MB\n"
     ]
    }
   ],
   "source": [
    "spaceship_titanic.info()"
   ]
  },
  {
   "cell_type": "markdown",
   "id": "fac10024",
   "metadata": {
    "papermill": {
     "duration": 0.011597,
     "end_time": "2022-08-26T14:22:53.669412",
     "exception": false,
     "start_time": "2022-08-26T14:22:53.657815",
     "status": "completed"
    },
    "tags": []
   },
   "source": [
    "## 4. Map Target Values to Binary"
   ]
  },
  {
   "cell_type": "code",
   "execution_count": 19,
   "id": "603af11d",
   "metadata": {
    "execution": {
     "iopub.execute_input": "2022-08-26T14:22:53.695686Z",
     "iopub.status.busy": "2022-08-26T14:22:53.695223Z",
     "iopub.status.idle": "2022-08-26T14:22:53.706471Z",
     "shell.execute_reply": "2022-08-26T14:22:53.705225Z"
    },
    "papermill": {
     "duration": 0.027473,
     "end_time": "2022-08-26T14:22:53.708818",
     "exception": false,
     "start_time": "2022-08-26T14:22:53.681345",
     "status": "completed"
    },
    "tags": []
   },
   "outputs": [],
   "source": [
    "spaceship_titanic['Transported'] = spaceship_titanic['Transported'].map({True: 1, False: 0})"
   ]
  },
  {
   "cell_type": "markdown",
   "id": "4347b5f5",
   "metadata": {
    "papermill": {
     "duration": 0.011683,
     "end_time": "2022-08-26T14:22:53.732596",
     "exception": false,
     "start_time": "2022-08-26T14:22:53.720913",
     "status": "completed"
    },
    "tags": []
   },
   "source": [
    "## 5. Separate Train and Test Data"
   ]
  },
  {
   "cell_type": "code",
   "execution_count": 20,
   "id": "b04a0a0a",
   "metadata": {
    "execution": {
     "iopub.execute_input": "2022-08-26T14:22:53.759296Z",
     "iopub.status.busy": "2022-08-26T14:22:53.758586Z",
     "iopub.status.idle": "2022-08-26T14:22:53.926947Z",
     "shell.execute_reply": "2022-08-26T14:22:53.926132Z"
    },
    "papermill": {
     "duration": 0.185118,
     "end_time": "2022-08-26T14:22:53.929895",
     "exception": false,
     "start_time": "2022-08-26T14:22:53.744777",
     "status": "completed"
    },
    "tags": []
   },
   "outputs": [],
   "source": [
    "cleaned_train = spaceship_titanic[~spaceship_titanic['Transported'].isna()]\n",
    "cleaned_test = spaceship_titanic[spaceship_titanic['Transported'].isna()]"
   ]
  },
  {
   "cell_type": "code",
   "execution_count": 21,
   "id": "3f34c0df",
   "metadata": {
    "execution": {
     "iopub.execute_input": "2022-08-26T14:22:53.957122Z",
     "iopub.status.busy": "2022-08-26T14:22:53.956692Z",
     "iopub.status.idle": "2022-08-26T14:22:53.991762Z",
     "shell.execute_reply": "2022-08-26T14:22:53.990434Z"
    },
    "papermill": {
     "duration": 0.051749,
     "end_time": "2022-08-26T14:22:53.994514",
     "exception": false,
     "start_time": "2022-08-26T14:22:53.942765",
     "status": "completed"
    },
    "tags": []
   },
   "outputs": [
    {
     "data": {
      "text/html": [
       "<div>\n",
       "<style scoped>\n",
       "    .dataframe tbody tr th:only-of-type {\n",
       "        vertical-align: middle;\n",
       "    }\n",
       "\n",
       "    .dataframe tbody tr th {\n",
       "        vertical-align: top;\n",
       "    }\n",
       "\n",
       "    .dataframe thead th {\n",
       "        text-align: right;\n",
       "    }\n",
       "</style>\n",
       "<table border=\"1\" class=\"dataframe\">\n",
       "  <thead>\n",
       "    <tr style=\"text-align: right;\">\n",
       "      <th></th>\n",
       "      <th>Age</th>\n",
       "      <th>RoomService</th>\n",
       "      <th>FoodCourt</th>\n",
       "      <th>ShoppingMall</th>\n",
       "      <th>Spa</th>\n",
       "      <th>VRDeck</th>\n",
       "      <th>Transported</th>\n",
       "      <th>IsAlone</th>\n",
       "      <th>DeckA</th>\n",
       "      <th>DeckB</th>\n",
       "      <th>...</th>\n",
       "      <th>Earth</th>\n",
       "      <th>Europa</th>\n",
       "      <th>Mars</th>\n",
       "      <th>CryoSleepTrue</th>\n",
       "      <th>CryoSleepFalse</th>\n",
       "      <th>55 Cancri e</th>\n",
       "      <th>PSO J318.5-22</th>\n",
       "      <th>TRAPPIST-1e</th>\n",
       "      <th>VIPTrue</th>\n",
       "      <th>VIPFalse</th>\n",
       "    </tr>\n",
       "    <tr>\n",
       "      <th>PassengerId</th>\n",
       "      <th></th>\n",
       "      <th></th>\n",
       "      <th></th>\n",
       "      <th></th>\n",
       "      <th></th>\n",
       "      <th></th>\n",
       "      <th></th>\n",
       "      <th></th>\n",
       "      <th></th>\n",
       "      <th></th>\n",
       "      <th></th>\n",
       "      <th></th>\n",
       "      <th></th>\n",
       "      <th></th>\n",
       "      <th></th>\n",
       "      <th></th>\n",
       "      <th></th>\n",
       "      <th></th>\n",
       "      <th></th>\n",
       "      <th></th>\n",
       "      <th></th>\n",
       "    </tr>\n",
       "  </thead>\n",
       "  <tbody>\n",
       "    <tr>\n",
       "      <th>0001_01</th>\n",
       "      <td>39.0</td>\n",
       "      <td>0.0</td>\n",
       "      <td>0.0</td>\n",
       "      <td>0.0</td>\n",
       "      <td>0.0</td>\n",
       "      <td>0.0</td>\n",
       "      <td>0.0</td>\n",
       "      <td>1</td>\n",
       "      <td>0</td>\n",
       "      <td>1</td>\n",
       "      <td>...</td>\n",
       "      <td>0</td>\n",
       "      <td>1</td>\n",
       "      <td>0</td>\n",
       "      <td>1</td>\n",
       "      <td>0</td>\n",
       "      <td>0</td>\n",
       "      <td>0</td>\n",
       "      <td>1</td>\n",
       "      <td>1</td>\n",
       "      <td>0</td>\n",
       "    </tr>\n",
       "    <tr>\n",
       "      <th>0002_01</th>\n",
       "      <td>24.0</td>\n",
       "      <td>109.0</td>\n",
       "      <td>9.0</td>\n",
       "      <td>25.0</td>\n",
       "      <td>549.0</td>\n",
       "      <td>44.0</td>\n",
       "      <td>1.0</td>\n",
       "      <td>1</td>\n",
       "      <td>0</td>\n",
       "      <td>0</td>\n",
       "      <td>...</td>\n",
       "      <td>1</td>\n",
       "      <td>0</td>\n",
       "      <td>0</td>\n",
       "      <td>1</td>\n",
       "      <td>0</td>\n",
       "      <td>0</td>\n",
       "      <td>0</td>\n",
       "      <td>1</td>\n",
       "      <td>1</td>\n",
       "      <td>0</td>\n",
       "    </tr>\n",
       "    <tr>\n",
       "      <th>0003_01</th>\n",
       "      <td>58.0</td>\n",
       "      <td>43.0</td>\n",
       "      <td>3576.0</td>\n",
       "      <td>0.0</td>\n",
       "      <td>6715.0</td>\n",
       "      <td>49.0</td>\n",
       "      <td>0.0</td>\n",
       "      <td>0</td>\n",
       "      <td>1</td>\n",
       "      <td>0</td>\n",
       "      <td>...</td>\n",
       "      <td>0</td>\n",
       "      <td>1</td>\n",
       "      <td>0</td>\n",
       "      <td>1</td>\n",
       "      <td>0</td>\n",
       "      <td>0</td>\n",
       "      <td>0</td>\n",
       "      <td>1</td>\n",
       "      <td>0</td>\n",
       "      <td>1</td>\n",
       "    </tr>\n",
       "    <tr>\n",
       "      <th>0003_02</th>\n",
       "      <td>33.0</td>\n",
       "      <td>0.0</td>\n",
       "      <td>1283.0</td>\n",
       "      <td>371.0</td>\n",
       "      <td>3329.0</td>\n",
       "      <td>193.0</td>\n",
       "      <td>0.0</td>\n",
       "      <td>0</td>\n",
       "      <td>1</td>\n",
       "      <td>0</td>\n",
       "      <td>...</td>\n",
       "      <td>0</td>\n",
       "      <td>1</td>\n",
       "      <td>0</td>\n",
       "      <td>1</td>\n",
       "      <td>0</td>\n",
       "      <td>0</td>\n",
       "      <td>0</td>\n",
       "      <td>1</td>\n",
       "      <td>1</td>\n",
       "      <td>0</td>\n",
       "    </tr>\n",
       "    <tr>\n",
       "      <th>0004_01</th>\n",
       "      <td>16.0</td>\n",
       "      <td>303.0</td>\n",
       "      <td>70.0</td>\n",
       "      <td>151.0</td>\n",
       "      <td>565.0</td>\n",
       "      <td>2.0</td>\n",
       "      <td>1.0</td>\n",
       "      <td>1</td>\n",
       "      <td>0</td>\n",
       "      <td>0</td>\n",
       "      <td>...</td>\n",
       "      <td>1</td>\n",
       "      <td>0</td>\n",
       "      <td>0</td>\n",
       "      <td>1</td>\n",
       "      <td>0</td>\n",
       "      <td>0</td>\n",
       "      <td>0</td>\n",
       "      <td>1</td>\n",
       "      <td>1</td>\n",
       "      <td>0</td>\n",
       "    </tr>\n",
       "    <tr>\n",
       "      <th>...</th>\n",
       "      <td>...</td>\n",
       "      <td>...</td>\n",
       "      <td>...</td>\n",
       "      <td>...</td>\n",
       "      <td>...</td>\n",
       "      <td>...</td>\n",
       "      <td>...</td>\n",
       "      <td>...</td>\n",
       "      <td>...</td>\n",
       "      <td>...</td>\n",
       "      <td>...</td>\n",
       "      <td>...</td>\n",
       "      <td>...</td>\n",
       "      <td>...</td>\n",
       "      <td>...</td>\n",
       "      <td>...</td>\n",
       "      <td>...</td>\n",
       "      <td>...</td>\n",
       "      <td>...</td>\n",
       "      <td>...</td>\n",
       "      <td>...</td>\n",
       "    </tr>\n",
       "    <tr>\n",
       "      <th>9276_01</th>\n",
       "      <td>41.0</td>\n",
       "      <td>0.0</td>\n",
       "      <td>6819.0</td>\n",
       "      <td>0.0</td>\n",
       "      <td>1643.0</td>\n",
       "      <td>74.0</td>\n",
       "      <td>0.0</td>\n",
       "      <td>1</td>\n",
       "      <td>1</td>\n",
       "      <td>0</td>\n",
       "      <td>...</td>\n",
       "      <td>0</td>\n",
       "      <td>1</td>\n",
       "      <td>0</td>\n",
       "      <td>1</td>\n",
       "      <td>0</td>\n",
       "      <td>1</td>\n",
       "      <td>0</td>\n",
       "      <td>0</td>\n",
       "      <td>0</td>\n",
       "      <td>1</td>\n",
       "    </tr>\n",
       "    <tr>\n",
       "      <th>9278_01</th>\n",
       "      <td>18.0</td>\n",
       "      <td>0.0</td>\n",
       "      <td>0.0</td>\n",
       "      <td>0.0</td>\n",
       "      <td>0.0</td>\n",
       "      <td>0.0</td>\n",
       "      <td>0.0</td>\n",
       "      <td>1</td>\n",
       "      <td>0</td>\n",
       "      <td>0</td>\n",
       "      <td>...</td>\n",
       "      <td>1</td>\n",
       "      <td>0</td>\n",
       "      <td>0</td>\n",
       "      <td>0</td>\n",
       "      <td>1</td>\n",
       "      <td>0</td>\n",
       "      <td>1</td>\n",
       "      <td>0</td>\n",
       "      <td>1</td>\n",
       "      <td>0</td>\n",
       "    </tr>\n",
       "    <tr>\n",
       "      <th>9279_01</th>\n",
       "      <td>26.0</td>\n",
       "      <td>0.0</td>\n",
       "      <td>0.0</td>\n",
       "      <td>1872.0</td>\n",
       "      <td>1.0</td>\n",
       "      <td>0.0</td>\n",
       "      <td>1.0</td>\n",
       "      <td>1</td>\n",
       "      <td>0</td>\n",
       "      <td>0</td>\n",
       "      <td>...</td>\n",
       "      <td>1</td>\n",
       "      <td>0</td>\n",
       "      <td>0</td>\n",
       "      <td>1</td>\n",
       "      <td>0</td>\n",
       "      <td>0</td>\n",
       "      <td>0</td>\n",
       "      <td>1</td>\n",
       "      <td>1</td>\n",
       "      <td>0</td>\n",
       "    </tr>\n",
       "    <tr>\n",
       "      <th>9280_01</th>\n",
       "      <td>32.0</td>\n",
       "      <td>0.0</td>\n",
       "      <td>1049.0</td>\n",
       "      <td>0.0</td>\n",
       "      <td>353.0</td>\n",
       "      <td>3235.0</td>\n",
       "      <td>0.0</td>\n",
       "      <td>0</td>\n",
       "      <td>0</td>\n",
       "      <td>0</td>\n",
       "      <td>...</td>\n",
       "      <td>0</td>\n",
       "      <td>1</td>\n",
       "      <td>0</td>\n",
       "      <td>1</td>\n",
       "      <td>0</td>\n",
       "      <td>1</td>\n",
       "      <td>0</td>\n",
       "      <td>0</td>\n",
       "      <td>1</td>\n",
       "      <td>0</td>\n",
       "    </tr>\n",
       "    <tr>\n",
       "      <th>9280_02</th>\n",
       "      <td>44.0</td>\n",
       "      <td>126.0</td>\n",
       "      <td>4688.0</td>\n",
       "      <td>0.0</td>\n",
       "      <td>0.0</td>\n",
       "      <td>12.0</td>\n",
       "      <td>1.0</td>\n",
       "      <td>0</td>\n",
       "      <td>0</td>\n",
       "      <td>0</td>\n",
       "      <td>...</td>\n",
       "      <td>0</td>\n",
       "      <td>1</td>\n",
       "      <td>0</td>\n",
       "      <td>1</td>\n",
       "      <td>0</td>\n",
       "      <td>0</td>\n",
       "      <td>0</td>\n",
       "      <td>1</td>\n",
       "      <td>1</td>\n",
       "      <td>0</td>\n",
       "    </tr>\n",
       "  </tbody>\n",
       "</table>\n",
       "<p>8693 rows × 1922 columns</p>\n",
       "</div>"
      ],
      "text/plain": [
       "              Age  RoomService  FoodCourt  ShoppingMall     Spa  VRDeck  \\\n",
       "PassengerId                                                               \n",
       "0001_01      39.0          0.0        0.0           0.0     0.0     0.0   \n",
       "0002_01      24.0        109.0        9.0          25.0   549.0    44.0   \n",
       "0003_01      58.0         43.0     3576.0           0.0  6715.0    49.0   \n",
       "0003_02      33.0          0.0     1283.0         371.0  3329.0   193.0   \n",
       "0004_01      16.0        303.0       70.0         151.0   565.0     2.0   \n",
       "...           ...          ...        ...           ...     ...     ...   \n",
       "9276_01      41.0          0.0     6819.0           0.0  1643.0    74.0   \n",
       "9278_01      18.0          0.0        0.0           0.0     0.0     0.0   \n",
       "9279_01      26.0          0.0        0.0        1872.0     1.0     0.0   \n",
       "9280_01      32.0          0.0     1049.0           0.0   353.0  3235.0   \n",
       "9280_02      44.0        126.0     4688.0           0.0     0.0    12.0   \n",
       "\n",
       "             Transported  IsAlone  DeckA  DeckB  ...  Earth  Europa  Mars  \\\n",
       "PassengerId                                      ...                        \n",
       "0001_01              0.0        1      0      1  ...      0       1     0   \n",
       "0002_01              1.0        1      0      0  ...      1       0     0   \n",
       "0003_01              0.0        0      1      0  ...      0       1     0   \n",
       "0003_02              0.0        0      1      0  ...      0       1     0   \n",
       "0004_01              1.0        1      0      0  ...      1       0     0   \n",
       "...                  ...      ...    ...    ...  ...    ...     ...   ...   \n",
       "9276_01              0.0        1      1      0  ...      0       1     0   \n",
       "9278_01              0.0        1      0      0  ...      1       0     0   \n",
       "9279_01              1.0        1      0      0  ...      1       0     0   \n",
       "9280_01              0.0        0      0      0  ...      0       1     0   \n",
       "9280_02              1.0        0      0      0  ...      0       1     0   \n",
       "\n",
       "             CryoSleepTrue  CryoSleepFalse  55 Cancri e  PSO J318.5-22  \\\n",
       "PassengerId                                                              \n",
       "0001_01                  1               0            0              0   \n",
       "0002_01                  1               0            0              0   \n",
       "0003_01                  1               0            0              0   \n",
       "0003_02                  1               0            0              0   \n",
       "0004_01                  1               0            0              0   \n",
       "...                    ...             ...          ...            ...   \n",
       "9276_01                  1               0            1              0   \n",
       "9278_01                  0               1            0              1   \n",
       "9279_01                  1               0            0              0   \n",
       "9280_01                  1               0            1              0   \n",
       "9280_02                  1               0            0              0   \n",
       "\n",
       "             TRAPPIST-1e  VIPTrue  VIPFalse  \n",
       "PassengerId                                  \n",
       "0001_01                1        1         0  \n",
       "0002_01                1        1         0  \n",
       "0003_01                1        0         1  \n",
       "0003_02                1        1         0  \n",
       "0004_01                1        1         0  \n",
       "...                  ...      ...       ...  \n",
       "9276_01                0        0         1  \n",
       "9278_01                0        1         0  \n",
       "9279_01                1        1         0  \n",
       "9280_01                0        1         0  \n",
       "9280_02                1        1         0  \n",
       "\n",
       "[8693 rows x 1922 columns]"
      ]
     },
     "execution_count": 21,
     "metadata": {},
     "output_type": "execute_result"
    }
   ],
   "source": [
    "cleaned_train"
   ]
  },
  {
   "cell_type": "code",
   "execution_count": 22,
   "id": "2d1decd8",
   "metadata": {
    "execution": {
     "iopub.execute_input": "2022-08-26T14:22:54.022883Z",
     "iopub.status.busy": "2022-08-26T14:22:54.022075Z",
     "iopub.status.idle": "2022-08-26T14:22:54.066284Z",
     "shell.execute_reply": "2022-08-26T14:22:54.065147Z"
    },
    "papermill": {
     "duration": 0.06134,
     "end_time": "2022-08-26T14:22:54.068891",
     "exception": false,
     "start_time": "2022-08-26T14:22:54.007551",
     "status": "completed"
    },
    "tags": []
   },
   "outputs": [
    {
     "data": {
      "text/html": [
       "<div>\n",
       "<style scoped>\n",
       "    .dataframe tbody tr th:only-of-type {\n",
       "        vertical-align: middle;\n",
       "    }\n",
       "\n",
       "    .dataframe tbody tr th {\n",
       "        vertical-align: top;\n",
       "    }\n",
       "\n",
       "    .dataframe thead th {\n",
       "        text-align: right;\n",
       "    }\n",
       "</style>\n",
       "<table border=\"1\" class=\"dataframe\">\n",
       "  <thead>\n",
       "    <tr style=\"text-align: right;\">\n",
       "      <th></th>\n",
       "      <th>Age</th>\n",
       "      <th>RoomService</th>\n",
       "      <th>FoodCourt</th>\n",
       "      <th>ShoppingMall</th>\n",
       "      <th>Spa</th>\n",
       "      <th>VRDeck</th>\n",
       "      <th>Transported</th>\n",
       "      <th>IsAlone</th>\n",
       "      <th>DeckA</th>\n",
       "      <th>DeckB</th>\n",
       "      <th>...</th>\n",
       "      <th>Earth</th>\n",
       "      <th>Europa</th>\n",
       "      <th>Mars</th>\n",
       "      <th>CryoSleepTrue</th>\n",
       "      <th>CryoSleepFalse</th>\n",
       "      <th>55 Cancri e</th>\n",
       "      <th>PSO J318.5-22</th>\n",
       "      <th>TRAPPIST-1e</th>\n",
       "      <th>VIPTrue</th>\n",
       "      <th>VIPFalse</th>\n",
       "    </tr>\n",
       "    <tr>\n",
       "      <th>PassengerId</th>\n",
       "      <th></th>\n",
       "      <th></th>\n",
       "      <th></th>\n",
       "      <th></th>\n",
       "      <th></th>\n",
       "      <th></th>\n",
       "      <th></th>\n",
       "      <th></th>\n",
       "      <th></th>\n",
       "      <th></th>\n",
       "      <th></th>\n",
       "      <th></th>\n",
       "      <th></th>\n",
       "      <th></th>\n",
       "      <th></th>\n",
       "      <th></th>\n",
       "      <th></th>\n",
       "      <th></th>\n",
       "      <th></th>\n",
       "      <th></th>\n",
       "      <th></th>\n",
       "    </tr>\n",
       "  </thead>\n",
       "  <tbody>\n",
       "  </tbody>\n",
       "</table>\n",
       "<p>0 rows × 1922 columns</p>\n",
       "</div>"
      ],
      "text/plain": [
       "Empty DataFrame\n",
       "Columns: [Age, RoomService, FoodCourt, ShoppingMall, Spa, VRDeck, Transported, IsAlone, DeckA, DeckB, DeckC, DeckD, DeckE, DeckF, DeckG, DeckT, Num0, Num1, Num10, Num100, Num1000, Num1001, Num1002, Num1003, Num1004, Num1005, Num1006, Num1007, Num1008, Num1009, Num101, Num1010, Num1011, Num1012, Num1013, Num1014, Num1015, Num1016, Num1017, Num1018, Num1019, Num102, Num1020, Num1021, Num1022, Num1023, Num1024, Num1025, Num1026, Num1027, Num1028, Num1029, Num103, Num1030, Num1031, Num1032, Num1033, Num1034, Num1035, Num1036, Num1037, Num1038, Num1039, Num104, Num1040, Num1041, Num1042, Num1043, Num1044, Num1045, Num1046, Num1047, Num1048, Num1049, Num105, Num1050, Num1051, Num1052, Num1053, Num1054, Num1055, Num1056, Num1057, Num1058, Num1059, Num106, Num1060, Num1061, Num1062, Num1063, Num1064, Num1065, Num1066, Num1067, Num1068, Num1069, Num107, Num1070, Num1071, Num1072, ...]\n",
       "Index: []\n",
       "\n",
       "[0 rows x 1922 columns]"
      ]
     },
     "execution_count": 22,
     "metadata": {},
     "output_type": "execute_result"
    }
   ],
   "source": [
    "cleaned_train[cleaned_train.isnull().any(axis=1)]"
   ]
  },
  {
   "cell_type": "code",
   "execution_count": 23,
   "id": "5a0457da",
   "metadata": {
    "execution": {
     "iopub.execute_input": "2022-08-26T14:22:54.095238Z",
     "iopub.status.busy": "2022-08-26T14:22:54.094826Z",
     "iopub.status.idle": "2022-08-26T14:22:54.134422Z",
     "shell.execute_reply": "2022-08-26T14:22:54.133524Z"
    },
    "papermill": {
     "duration": 0.056164,
     "end_time": "2022-08-26T14:22:54.137386",
     "exception": false,
     "start_time": "2022-08-26T14:22:54.081222",
     "status": "completed"
    },
    "tags": []
   },
   "outputs": [],
   "source": [
    "X_train = cleaned_train.drop('Transported', axis=1)\n",
    "y_train = cleaned_train['Transported']"
   ]
  },
  {
   "cell_type": "code",
   "execution_count": 24,
   "id": "d37391b0",
   "metadata": {
    "execution": {
     "iopub.execute_input": "2022-08-26T14:22:54.163722Z",
     "iopub.status.busy": "2022-08-26T14:22:54.163326Z",
     "iopub.status.idle": "2022-08-26T14:22:54.179541Z",
     "shell.execute_reply": "2022-08-26T14:22:54.178554Z"
    },
    "papermill": {
     "duration": 0.032242,
     "end_time": "2022-08-26T14:22:54.182109",
     "exception": false,
     "start_time": "2022-08-26T14:22:54.149867",
     "status": "completed"
    },
    "tags": []
   },
   "outputs": [],
   "source": [
    "X_test = cleaned_test.drop('Transported', axis=1)"
   ]
  },
  {
   "cell_type": "markdown",
   "id": "e9fe3479",
   "metadata": {
    "papermill": {
     "duration": 0.012109,
     "end_time": "2022-08-26T14:22:54.206541",
     "exception": false,
     "start_time": "2022-08-26T14:22:54.194432",
     "status": "completed"
    },
    "tags": []
   },
   "source": [
    "## 5. Trying Out Different Types of Models"
   ]
  },
  {
   "cell_type": "markdown",
   "id": "c70a9c4d",
   "metadata": {
    "execution": {
     "iopub.execute_input": "2022-08-25T14:42:27.925392Z",
     "iopub.status.busy": "2022-08-25T14:42:27.924943Z",
     "iopub.status.idle": "2022-08-25T14:42:27.942016Z",
     "shell.execute_reply": "2022-08-25T14:42:27.940974Z",
     "shell.execute_reply.started": "2022-08-25T14:42:27.925355Z"
    },
    "papermill": {
     "duration": 0.012086,
     "end_time": "2022-08-26T14:22:54.230928",
     "exception": false,
     "start_time": "2022-08-26T14:22:54.218842",
     "status": "completed"
    },
    "tags": []
   },
   "source": [
    "## **SVM**"
   ]
  },
  {
   "cell_type": "code",
   "execution_count": 25,
   "id": "762f23e9",
   "metadata": {
    "execution": {
     "iopub.execute_input": "2022-08-26T14:22:54.258768Z",
     "iopub.status.busy": "2022-08-26T14:22:54.257273Z",
     "iopub.status.idle": "2022-08-26T14:22:54.262749Z",
     "shell.execute_reply": "2022-08-26T14:22:54.261979Z"
    },
    "papermill": {
     "duration": 0.02175,
     "end_time": "2022-08-26T14:22:54.265009",
     "exception": false,
     "start_time": "2022-08-26T14:22:54.243259",
     "status": "completed"
    },
    "tags": []
   },
   "outputs": [],
   "source": [
    "# from sklearn import svm"
   ]
  },
  {
   "cell_type": "code",
   "execution_count": 26,
   "id": "6caaf6e8",
   "metadata": {
    "execution": {
     "iopub.execute_input": "2022-08-26T14:22:54.293002Z",
     "iopub.status.busy": "2022-08-26T14:22:54.292244Z",
     "iopub.status.idle": "2022-08-26T14:22:54.296880Z",
     "shell.execute_reply": "2022-08-26T14:22:54.296052Z"
    },
    "papermill": {
     "duration": 0.021083,
     "end_time": "2022-08-26T14:22:54.299253",
     "exception": false,
     "start_time": "2022-08-26T14:22:54.278170",
     "status": "completed"
    },
    "tags": []
   },
   "outputs": [],
   "source": [
    "# svccl = svm.SVC()\n",
    "# svccl.fit(X_train, y_train)\n",
    "# y_pred = svccl.predict(X_test)"
   ]
  },
  {
   "cell_type": "code",
   "execution_count": 27,
   "id": "cdeddb2b",
   "metadata": {
    "execution": {
     "iopub.execute_input": "2022-08-26T14:22:54.326761Z",
     "iopub.status.busy": "2022-08-26T14:22:54.326019Z",
     "iopub.status.idle": "2022-08-26T14:22:54.330663Z",
     "shell.execute_reply": "2022-08-26T14:22:54.329867Z"
    },
    "papermill": {
     "duration": 0.021183,
     "end_time": "2022-08-26T14:22:54.332905",
     "exception": false,
     "start_time": "2022-08-26T14:22:54.311722",
     "status": "completed"
    },
    "tags": []
   },
   "outputs": [],
   "source": [
    "# submission = data_test[['PassengerId']]\n",
    "# submission['Transported'] = y_pred\n",
    "# submission['Transported'] = submission['Transported'].map({1: True, 0: False})\n",
    "# submission"
   ]
  },
  {
   "cell_type": "code",
   "execution_count": 28,
   "id": "066d4ea7",
   "metadata": {
    "execution": {
     "iopub.execute_input": "2022-08-26T14:22:54.359749Z",
     "iopub.status.busy": "2022-08-26T14:22:54.359026Z",
     "iopub.status.idle": "2022-08-26T14:22:54.363631Z",
     "shell.execute_reply": "2022-08-26T14:22:54.362848Z"
    },
    "papermill": {
     "duration": 0.02059,
     "end_time": "2022-08-26T14:22:54.365836",
     "exception": false,
     "start_time": "2022-08-26T14:22:54.345246",
     "status": "completed"
    },
    "tags": []
   },
   "outputs": [],
   "source": [
    "# submission.to_csv('submission.csv', index=False)"
   ]
  },
  {
   "cell_type": "markdown",
   "id": "4a022031",
   "metadata": {
    "papermill": {
     "duration": 0.01202,
     "end_time": "2022-08-26T14:22:54.390100",
     "exception": false,
     "start_time": "2022-08-26T14:22:54.378080",
     "status": "completed"
    },
    "tags": []
   },
   "source": [
    "## **XGBoost**"
   ]
  },
  {
   "cell_type": "code",
   "execution_count": 29,
   "id": "27a60464",
   "metadata": {
    "execution": {
     "iopub.execute_input": "2022-08-26T14:22:54.417195Z",
     "iopub.status.busy": "2022-08-26T14:22:54.416429Z",
     "iopub.status.idle": "2022-08-26T14:22:55.585781Z",
     "shell.execute_reply": "2022-08-26T14:22:55.584201Z"
    },
    "papermill": {
     "duration": 1.186373,
     "end_time": "2022-08-26T14:22:55.588866",
     "exception": false,
     "start_time": "2022-08-26T14:22:54.402493",
     "status": "completed"
    },
    "tags": []
   },
   "outputs": [],
   "source": [
    "import xgboost as xgb"
   ]
  },
  {
   "cell_type": "code",
   "execution_count": 30,
   "id": "fe37da5d",
   "metadata": {
    "execution": {
     "iopub.execute_input": "2022-08-26T14:22:55.616768Z",
     "iopub.status.busy": "2022-08-26T14:22:55.616376Z",
     "iopub.status.idle": "2022-08-26T14:23:11.812066Z",
     "shell.execute_reply": "2022-08-26T14:23:11.810342Z"
    },
    "papermill": {
     "duration": 16.213962,
     "end_time": "2022-08-26T14:23:11.815863",
     "exception": false,
     "start_time": "2022-08-26T14:22:55.601901",
     "status": "completed"
    },
    "tags": []
   },
   "outputs": [
    {
     "name": "stdout",
     "output_type": "stream",
     "text": [
      "0.8341194064189578\n"
     ]
    }
   ],
   "source": [
    "# commented is my best result so far\n",
    "# xgbcl = xgb.XGBClassifier(n_estimators=50, learning_rate=0.1)\n",
    "xgbcl = xgb.XGBClassifier(\n",
    "    random_state=42,\n",
    "    n_estimators=50, \n",
    "    learning_rate=0.1\n",
    ")\n",
    "xgbcl.fit(X_train, y_train)\n",
    "y_pred = xgbcl.predict(X_test)\n",
    "print(xgbcl.score(X_train, y_train))"
   ]
  },
  {
   "cell_type": "markdown",
   "id": "e9149bf8",
   "metadata": {
    "papermill": {
     "duration": 0.012259,
     "end_time": "2022-08-26T14:23:11.842607",
     "exception": false,
     "start_time": "2022-08-26T14:23:11.830348",
     "status": "completed"
    },
    "tags": []
   },
   "source": [
    "### XGB HyperParameter Tuning"
   ]
  },
  {
   "cell_type": "code",
   "execution_count": 31,
   "id": "f6236f1b",
   "metadata": {
    "execution": {
     "iopub.execute_input": "2022-08-26T14:23:11.870114Z",
     "iopub.status.busy": "2022-08-26T14:23:11.869638Z",
     "iopub.status.idle": "2022-08-26T14:23:11.873939Z",
     "shell.execute_reply": "2022-08-26T14:23:11.873088Z"
    },
    "papermill": {
     "duration": 0.021292,
     "end_time": "2022-08-26T14:23:11.876368",
     "exception": false,
     "start_time": "2022-08-26T14:23:11.855076",
     "status": "completed"
    },
    "tags": []
   },
   "outputs": [],
   "source": [
    "# from skopt import BayesSearchCV\n",
    "# from skopt.callbacks import DeadlineStopper, DeltaYStopper\n",
    "# from skopt.space import Real, Categorical, Integer\n",
    "# from time import time\n",
    "# import pprint"
   ]
  },
  {
   "cell_type": "code",
   "execution_count": 32,
   "id": "cee6a222",
   "metadata": {
    "execution": {
     "iopub.execute_input": "2022-08-26T14:23:11.903997Z",
     "iopub.status.busy": "2022-08-26T14:23:11.903145Z",
     "iopub.status.idle": "2022-08-26T14:23:11.908342Z",
     "shell.execute_reply": "2022-08-26T14:23:11.907203Z"
    },
    "papermill": {
     "duration": 0.021932,
     "end_time": "2022-08-26T14:23:11.910751",
     "exception": false,
     "start_time": "2022-08-26T14:23:11.888819",
     "status": "completed"
    },
    "tags": []
   },
   "outputs": [],
   "source": [
    "# search_spaces = {\n",
    "#     'learning_rate': Real(0.01, 1.0, 'uniform'),\n",
    "#     'max_depth': Integer(2, 12),\n",
    "#     'subsample': Real(0.1, 1.0, 'uniform'),\n",
    "#     'colsample_bytree': Real(0.1, 1.0, 'uniform'), # subsample ratio of columns by tree\n",
    "#     'reg_lambda': Real(1e-9, 100., 'uniform'), # L2 regularization\n",
    "#     'reg_alpha': Real(1e-9, 100., 'uniform'), # L1 regularization\n",
    "#     'n_estimators': Integer(50, 5000)\n",
    "# }"
   ]
  },
  {
   "cell_type": "code",
   "execution_count": 33,
   "id": "304f82e6",
   "metadata": {
    "execution": {
     "iopub.execute_input": "2022-08-26T14:23:11.939254Z",
     "iopub.status.busy": "2022-08-26T14:23:11.938352Z",
     "iopub.status.idle": "2022-08-26T14:23:11.944192Z",
     "shell.execute_reply": "2022-08-26T14:23:11.943220Z"
    },
    "papermill": {
     "duration": 0.023177,
     "end_time": "2022-08-26T14:23:11.946851",
     "exception": false,
     "start_time": "2022-08-26T14:23:11.923674",
     "status": "completed"
    },
    "tags": []
   },
   "outputs": [],
   "source": [
    "# opt = BayesSearchCV(\n",
    "#     estimator=xgbcl,                                    \n",
    "#     search_spaces=search_spaces,                      \n",
    "#     scoring=\"neg_log_loss\",                             \n",
    "#     cv=10, # 10-fold cv                     \n",
    "#     n_iter=120, # max number of trials\n",
    "#     n_points=1, # number of hyperparameter sets evaluated at the same time\n",
    "#     n_jobs=1, # number of jobs\n",
    "#     iid=False, # if not iid it optimizes on the cv score\n",
    "#     return_train_score=False,                         \n",
    "#     refit=False,                                      \n",
    "#     optimizer_kwargs={'base_estimator': 'GP'}, # optmizer parameters: we use Gaussian Process (GP)\n",
    "#     random_state=0 # random state for replicability\n",
    "# )                                   "
   ]
  },
  {
   "cell_type": "code",
   "execution_count": 34,
   "id": "ce2c9c99",
   "metadata": {
    "execution": {
     "iopub.execute_input": "2022-08-26T14:23:11.976059Z",
     "iopub.status.busy": "2022-08-26T14:23:11.974604Z",
     "iopub.status.idle": "2022-08-26T14:23:11.981759Z",
     "shell.execute_reply": "2022-08-26T14:23:11.980751Z"
    },
    "papermill": {
     "duration": 0.024625,
     "end_time": "2022-08-26T14:23:11.984752",
     "exception": false,
     "start_time": "2022-08-26T14:23:11.960127",
     "status": "completed"
    },
    "tags": []
   },
   "outputs": [],
   "source": [
    "# # Reporting util for different optimizers\n",
    "# def report_perf(optimizer, X, y, title=\"model\", callbacks=None):\n",
    "#     \"\"\"\n",
    "#     A wrapper for measuring time and performances of different optmizers\n",
    "    \n",
    "#     optimizer = a sklearn or a skopt optimizer\n",
    "#     X = the training set \n",
    "#     y = our target\n",
    "#     title = a string label for the experiment\n",
    "#     \"\"\"\n",
    "#     start = time()\n",
    "    \n",
    "#     if callbacks is not None:\n",
    "#         optimizer.fit(X, y, callback=callbacks)\n",
    "#     else:\n",
    "#         optimizer.fit(X, y)\n",
    "        \n",
    "#     d = pd.DataFrame(optimizer.cv_results_)\n",
    "#     best_score = optimizer.best_score_\n",
    "#     best_score_std = d.iloc[optimizer.best_index_].std_test_score\n",
    "#     best_params = optimizer.best_params_\n",
    "    \n",
    "#     print((title + \" took %.2f seconds,  candidates checked: %d, best CV score: %.3f \"\n",
    "#            + u\"\\u00B1\"+\" %.3f\") % (time() - start, \n",
    "#                                    len(optimizer.cv_results_['params']),\n",
    "#                                    best_score,\n",
    "#                                    best_score_std))    \n",
    "#     print('Best parameters:')\n",
    "#     pprint.pprint(best_params)\n",
    "#     print()\n",
    "#     return best_params"
   ]
  },
  {
   "cell_type": "code",
   "execution_count": 35,
   "id": "9f0c860f",
   "metadata": {
    "execution": {
     "iopub.execute_input": "2022-08-26T14:23:12.015391Z",
     "iopub.status.busy": "2022-08-26T14:23:12.014314Z",
     "iopub.status.idle": "2022-08-26T14:23:12.020441Z",
     "shell.execute_reply": "2022-08-26T14:23:12.019369Z"
    },
    "papermill": {
     "duration": 0.024689,
     "end_time": "2022-08-26T14:23:12.023189",
     "exception": false,
     "start_time": "2022-08-26T14:23:11.998500",
     "status": "completed"
    },
    "tags": []
   },
   "outputs": [],
   "source": [
    "# # Running the optimizer\n",
    "# overdone_control = DeltaYStopper(delta=0.0001)\n",
    "# time_limit_control = DeadlineStopper(total_time=60*60*4)\n",
    "\n",
    "# best_params = report_perf(\n",
    "#     opt, X_train, y_train,'XGBoost_classification', \n",
    "#     callbacks=[overdone_control, time_limit_control]\n",
    "# )\n",
    "\n",
    "# # OrderedDict([('colsample_bytree', 0.9704181023958698),\n",
    "# #              ('learning_rate', 0.7589873769816291),\n",
    "# #              ('max_depth', 6),\n",
    "# #              ('n_estimators', 962),\n",
    "# #              ('reg_alpha', 23.854638478198865),\n",
    "# #              ('reg_lambda', 85.65442013958634),\n",
    "# #              ('subsample', 0.5030578041377357)])"
   ]
  },
  {
   "cell_type": "code",
   "execution_count": 36,
   "id": "ac306cad",
   "metadata": {
    "execution": {
     "iopub.execute_input": "2022-08-26T14:23:12.052349Z",
     "iopub.status.busy": "2022-08-26T14:23:12.051779Z",
     "iopub.status.idle": "2022-08-26T14:23:12.057390Z",
     "shell.execute_reply": "2022-08-26T14:23:12.056062Z"
    },
    "papermill": {
     "duration": 0.023465,
     "end_time": "2022-08-26T14:23:12.060065",
     "exception": false,
     "start_time": "2022-08-26T14:23:12.036600",
     "status": "completed"
    },
    "tags": []
   },
   "outputs": [],
   "source": [
    "## this turns to be less accurate than the default one, lol\n",
    "## 0.79541\n",
    "\n",
    "# xgbcl_best = xgb.XGBClassifier(\n",
    "#     colsample_bytree=0.9704181023958698,\n",
    "#     learning_rate=0.758987376981629,\n",
    "#     max_depth=6,\n",
    "#     n_estimators=962,\n",
    "#     reg_alpha=23.854638478198865,\n",
    "#     reg_lambda=85.65442013958634,\n",
    "#     subsample=0.5030578041377357\n",
    "# )\n",
    "# xgbcl_best.fit(X_train, y_train)\n",
    "# print(xgbcl_best.score(X_train, y_train))\n",
    "# y_pred = xgbcl_best.predict(X_test)"
   ]
  },
  {
   "cell_type": "markdown",
   "id": "538d2afe",
   "metadata": {
    "papermill": {
     "duration": 0.013037,
     "end_time": "2022-08-26T14:23:12.086526",
     "exception": false,
     "start_time": "2022-08-26T14:23:12.073489",
     "status": "completed"
    },
    "tags": []
   },
   "source": [
    "## 6. Create Submission DataFrame"
   ]
  },
  {
   "cell_type": "code",
   "execution_count": 37,
   "id": "a086467a",
   "metadata": {
    "execution": {
     "iopub.execute_input": "2022-08-26T14:23:12.115952Z",
     "iopub.status.busy": "2022-08-26T14:23:12.115085Z",
     "iopub.status.idle": "2022-08-26T14:23:12.137206Z",
     "shell.execute_reply": "2022-08-26T14:23:12.135853Z"
    },
    "papermill": {
     "duration": 0.041273,
     "end_time": "2022-08-26T14:23:12.141171",
     "exception": false,
     "start_time": "2022-08-26T14:23:12.099898",
     "status": "completed"
    },
    "tags": []
   },
   "outputs": [
    {
     "name": "stderr",
     "output_type": "stream",
     "text": [
      "/opt/conda/lib/python3.7/site-packages/ipykernel_launcher.py:2: SettingWithCopyWarning: \n",
      "A value is trying to be set on a copy of a slice from a DataFrame.\n",
      "Try using .loc[row_indexer,col_indexer] = value instead\n",
      "\n",
      "See the caveats in the documentation: https://pandas.pydata.org/pandas-docs/stable/user_guide/indexing.html#returning-a-view-versus-a-copy\n",
      "  \n",
      "/opt/conda/lib/python3.7/site-packages/ipykernel_launcher.py:3: SettingWithCopyWarning: \n",
      "A value is trying to be set on a copy of a slice from a DataFrame.\n",
      "Try using .loc[row_indexer,col_indexer] = value instead\n",
      "\n",
      "See the caveats in the documentation: https://pandas.pydata.org/pandas-docs/stable/user_guide/indexing.html#returning-a-view-versus-a-copy\n",
      "  This is separate from the ipykernel package so we can avoid doing imports until\n"
     ]
    },
    {
     "data": {
      "text/html": [
       "<div>\n",
       "<style scoped>\n",
       "    .dataframe tbody tr th:only-of-type {\n",
       "        vertical-align: middle;\n",
       "    }\n",
       "\n",
       "    .dataframe tbody tr th {\n",
       "        vertical-align: top;\n",
       "    }\n",
       "\n",
       "    .dataframe thead th {\n",
       "        text-align: right;\n",
       "    }\n",
       "</style>\n",
       "<table border=\"1\" class=\"dataframe\">\n",
       "  <thead>\n",
       "    <tr style=\"text-align: right;\">\n",
       "      <th></th>\n",
       "      <th>PassengerId</th>\n",
       "      <th>Transported</th>\n",
       "    </tr>\n",
       "  </thead>\n",
       "  <tbody>\n",
       "    <tr>\n",
       "      <th>0</th>\n",
       "      <td>0013_01</td>\n",
       "      <td>True</td>\n",
       "    </tr>\n",
       "    <tr>\n",
       "      <th>1</th>\n",
       "      <td>0018_01</td>\n",
       "      <td>False</td>\n",
       "    </tr>\n",
       "    <tr>\n",
       "      <th>2</th>\n",
       "      <td>0019_01</td>\n",
       "      <td>True</td>\n",
       "    </tr>\n",
       "    <tr>\n",
       "      <th>3</th>\n",
       "      <td>0021_01</td>\n",
       "      <td>True</td>\n",
       "    </tr>\n",
       "    <tr>\n",
       "      <th>4</th>\n",
       "      <td>0023_01</td>\n",
       "      <td>True</td>\n",
       "    </tr>\n",
       "    <tr>\n",
       "      <th>...</th>\n",
       "      <td>...</td>\n",
       "      <td>...</td>\n",
       "    </tr>\n",
       "    <tr>\n",
       "      <th>4272</th>\n",
       "      <td>9266_02</td>\n",
       "      <td>True</td>\n",
       "    </tr>\n",
       "    <tr>\n",
       "      <th>4273</th>\n",
       "      <td>9269_01</td>\n",
       "      <td>False</td>\n",
       "    </tr>\n",
       "    <tr>\n",
       "      <th>4274</th>\n",
       "      <td>9271_01</td>\n",
       "      <td>True</td>\n",
       "    </tr>\n",
       "    <tr>\n",
       "      <th>4275</th>\n",
       "      <td>9273_01</td>\n",
       "      <td>False</td>\n",
       "    </tr>\n",
       "    <tr>\n",
       "      <th>4276</th>\n",
       "      <td>9277_01</td>\n",
       "      <td>True</td>\n",
       "    </tr>\n",
       "  </tbody>\n",
       "</table>\n",
       "<p>4277 rows × 2 columns</p>\n",
       "</div>"
      ],
      "text/plain": [
       "     PassengerId  Transported\n",
       "0        0013_01         True\n",
       "1        0018_01        False\n",
       "2        0019_01         True\n",
       "3        0021_01         True\n",
       "4        0023_01         True\n",
       "...          ...          ...\n",
       "4272     9266_02         True\n",
       "4273     9269_01        False\n",
       "4274     9271_01         True\n",
       "4275     9273_01        False\n",
       "4276     9277_01         True\n",
       "\n",
       "[4277 rows x 2 columns]"
      ]
     },
     "execution_count": 37,
     "metadata": {},
     "output_type": "execute_result"
    }
   ],
   "source": [
    "submission = data_test[['PassengerId']]\n",
    "submission['Transported'] = y_pred\n",
    "submission['Transported'] = submission['Transported'].map({1: True, 0: False})\n",
    "submission"
   ]
  },
  {
   "cell_type": "code",
   "execution_count": 38,
   "id": "1d38cabc",
   "metadata": {
    "execution": {
     "iopub.execute_input": "2022-08-26T14:23:12.169961Z",
     "iopub.status.busy": "2022-08-26T14:23:12.169074Z",
     "iopub.status.idle": "2022-08-26T14:23:12.183342Z",
     "shell.execute_reply": "2022-08-26T14:23:12.181781Z"
    },
    "papermill": {
     "duration": 0.032336,
     "end_time": "2022-08-26T14:23:12.186489",
     "exception": false,
     "start_time": "2022-08-26T14:23:12.154153",
     "status": "completed"
    },
    "tags": []
   },
   "outputs": [],
   "source": [
    "submission.to_csv('submission.csv', index=False)"
   ]
  },
  {
   "cell_type": "code",
   "execution_count": null,
   "id": "d1a5e051",
   "metadata": {
    "papermill": {
     "duration": 0.012662,
     "end_time": "2022-08-26T14:23:12.212195",
     "exception": false,
     "start_time": "2022-08-26T14:23:12.199533",
     "status": "completed"
    },
    "tags": []
   },
   "outputs": [],
   "source": []
  }
 ],
 "metadata": {
  "kernelspec": {
   "display_name": "Python 3",
   "language": "python",
   "name": "python3"
  },
  "language_info": {
   "codemirror_mode": {
    "name": "ipython",
    "version": 3
   },
   "file_extension": ".py",
   "mimetype": "text/x-python",
   "name": "python",
   "nbconvert_exporter": "python",
   "pygments_lexer": "ipython3",
   "version": "3.7.12"
  },
  "papermill": {
   "default_parameters": {},
   "duration": 30.576887,
   "end_time": "2022-08-26T14:23:12.951455",
   "environment_variables": {},
   "exception": null,
   "input_path": "__notebook__.ipynb",
   "output_path": "__notebook__.ipynb",
   "parameters": {},
   "start_time": "2022-08-26T14:22:42.374568",
   "version": "2.3.4"
  }
 },
 "nbformat": 4,
 "nbformat_minor": 5
}
